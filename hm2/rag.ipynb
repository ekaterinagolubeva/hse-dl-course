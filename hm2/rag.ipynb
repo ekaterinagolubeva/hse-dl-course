{
  "nbformat": 4,
  "nbformat_minor": 0,
  "metadata": {
    "colab": {
      "provenance": [],
      "gpuType": "T4"
    },
    "kernelspec": {
      "name": "python3",
      "display_name": "Python 3"
    },
    "language_info": {
      "name": "python"
    },
    "accelerator": "GPU"
  },
  "cells": [
    {
      "cell_type": "markdown",
      "source": [
        "# Домашнее задание № 2\n",
        "\n",
        "**Создать RAG (Retrieval-Augmented Generation) чат-бота, который будет отвечать на вопросы по определённой теме.**\n",
        "\n",
        "> RAG — это метод, который объединяет поиск по предоставленной базе знаний и генерацию текста нейросетями на их основе, что позволяет формировать осмысленный ответ.\n",
        "\n",
        "\n",
        "**Для сдачи ДЗ нужно:**\n",
        "\n",
        "1. Собрать текстовую базу знаний по любой теме. Разбить ее на фрагменты (макс. 1500 символов каждый). Пример базы данных от преподавателя.\n",
        "2. Использовать код преподавателя из репозитория как шаблон. Необходимо подключить GigaChat API или Yandex Cloud AI Studio, чтобы бот не просто искал совпадения по тексту, а самостоятельно делал выводы на основе предоставленной базы знаний.\n",
        "3. Подключить бота к Telegram, как показывают в лекции.\n",
        "\n",
        "В качестве результатов работы предоставить код, вашу базу данных и скриншоты диалога с ботом.\n"
      ],
      "metadata": {
        "id": "0MgDDrp7m-rB"
      }
    },
    {
      "cell_type": "code",
      "source": [
        "GIGACHAT_CRED = \"<API КЛЮЧ ДЛЯ GIGACHAT>\"\n",
        "\n",
        "TG_TOKEN = \"<ТОКЕН ДЛЯ ТЕЛЕГРАМА>\""
      ],
      "metadata": {
        "id": "3O5ZWIlR7xif"
      },
      "execution_count": 89,
      "outputs": []
    },
    {
      "cell_type": "markdown",
      "source": [
        "# Обработка данных\n",
        "\n",
        "\n",
        "В качестве данных для базы знаний статью про Французскую Новую волну"
      ],
      "metadata": {
        "id": "-6puPDuboMLq"
      }
    },
    {
      "cell_type": "markdown",
      "source": [
        "Чтобы преобразовать pdf документ в текст будем использовать [docling](https://github.com/docling-project/docling)"
      ],
      "metadata": {
        "id": "-aQfrfPrrxzs"
      }
    },
    {
      "cell_type": "code",
      "source": [
        "!pip install -q docling langchain langchain-community"
      ],
      "metadata": {
        "id": "aMqvXqoWrpth"
      },
      "execution_count": 2,
      "outputs": []
    },
    {
      "cell_type": "code",
      "source": [
        "from docling.document_converter import DocumentConverter\n",
        "\n",
        "source = \"https://artculturestudies.sias.ru/upload/iblock/315/hk_2018_02_64_93_krutchkova.pdf\"\n",
        "\n",
        "# Загружаем pdf документ и преобразуем его в Markdown\n",
        "converter = DocumentConverter()\n",
        "result = converter.convert(source)\n",
        "md_doc = result.document.export_to_markdown()\n",
        "\n",
        "# Отображаем первые 1к символов из Markdown документа\n",
        "print(md_doc[:1000])"
      ],
      "metadata": {
        "colab": {
          "base_uri": "https://localhost:8080/"
        },
        "id": "6lKpMz9WsE9f",
        "outputId": "3a288fd3-6a59-40f6-dea5-dca676c7c9f2"
      },
      "execution_count": 3,
      "outputs": [
        {
          "output_type": "stream",
          "name": "stderr",
          "text": [
            "WARNING:docling.models.factories.base_factory:The plugin langchain_docling will not be loaded because Docling is being executed with allow_external_plugins=false.\n",
            "WARNING:docling.models.factories.base_factory:The plugin langchain_docling will not be loaded because Docling is being executed with allow_external_plugins=false.\n",
            "\u001b[32m[INFO] 2025-10-13 19:09:17,758 [RapidOCR] base.py:22: Using engine_name: onnxruntime\u001b[0m\n",
            "\u001b[32m[INFO] 2025-10-13 19:09:17,789 [RapidOCR] download_file.py:60: File exists and is valid: /usr/local/lib/python3.12/dist-packages/rapidocr/models/ch_PP-OCRv4_det_infer.onnx\u001b[0m\n",
            "\u001b[32m[INFO] 2025-10-13 19:09:17,790 [RapidOCR] main.py:53: Using /usr/local/lib/python3.12/dist-packages/rapidocr/models/ch_PP-OCRv4_det_infer.onnx\u001b[0m\n",
            "\u001b[32m[INFO] 2025-10-13 19:09:17,923 [RapidOCR] base.py:22: Using engine_name: onnxruntime\u001b[0m\n",
            "\u001b[32m[INFO] 2025-10-13 19:09:17,931 [RapidOCR] download_file.py:60: File exists and is valid: /usr/local/lib/python3.12/dist-packages/rapidocr/models/ch_ppocr_mobile_v2.0_cls_infer.onnx\u001b[0m\n",
            "\u001b[32m[INFO] 2025-10-13 19:09:17,931 [RapidOCR] main.py:53: Using /usr/local/lib/python3.12/dist-packages/rapidocr/models/ch_ppocr_mobile_v2.0_cls_infer.onnx\u001b[0m\n",
            "\u001b[32m[INFO] 2025-10-13 19:09:17,968 [RapidOCR] base.py:22: Using engine_name: onnxruntime\u001b[0m\n",
            "\u001b[32m[INFO] 2025-10-13 19:09:18,033 [RapidOCR] download_file.py:60: File exists and is valid: /usr/local/lib/python3.12/dist-packages/rapidocr/models/ch_PP-OCRv4_rec_infer.onnx\u001b[0m\n",
            "\u001b[32m[INFO] 2025-10-13 19:09:18,034 [RapidOCR] main.py:53: Using /usr/local/lib/python3.12/dist-packages/rapidocr/models/ch_PP-OCRv4_rec_infer.onnx\u001b[0m\n",
            "/usr/local/lib/python3.12/dist-packages/huggingface_hub/utils/_auth.py:94: UserWarning: \n",
            "The secret `HF_TOKEN` does not exist in your Colab secrets.\n",
            "To authenticate with the Hugging Face Hub, create a token in your settings tab (https://huggingface.co/settings/tokens), set it as secret in your Google Colab and restart your session.\n",
            "You will be able to reuse this secret in all of your notebooks.\n",
            "Please note that authentication is recommended but still optional to access public models or datasets.\n",
            "  warnings.warn(\n"
          ]
        },
        {
          "output_type": "stream",
          "name": "stdout",
          "text": [
            "КРЮЧКОВА В. А.\n",
            "\n",
            "## Изобразительная форма в фильмах французской «новой волны». Пластика кадра пластичность сюжета\n",
            "\n",
            "В данной статье рассматривается эстетика режиссеров французского кино Жан-Люка Годара, Жана Риветта, Эрика Ромера, Франсуа Трюффо и др. Автор обращает особое внимание на влияние Синематеки и круга журнала «Кайе дю синема» на формирование художественного вкуса, пристрастия к киноцитатам и культа визуальной достоверности у представителей «новой волны». Воссоздается атмосфера эстетического переворота и техника съемочного процесса, анализируется специфика языка и видения мира. В статье говорится о роли элементов интервью в художественной материи фильма и об установке на открытые финалы, о невозможности традиционно строить сюжет и подводить итоги ввиду незавершенности самого жизненного процесса. Метод режиссеров «новой волны» напоминает коллаж в тех случаях, когда «вырезка» (découpage) из действительности прямо внедряется в кинопоток. Но более часты иные решения: жизнь незаметно\n"
          ]
        }
      ]
    },
    {
      "cell_type": "markdown",
      "source": [
        "Теперь надо получить из данного цельного текста чанки. Для этого будем использовать `RecursiveCharacterTextSplitter` из Langchain"
      ],
      "metadata": {
        "id": "ExlQ4BAMy2zk"
      }
    },
    {
      "cell_type": "code",
      "source": [
        "from langchain_text_splitters import RecursiveCharacterTextSplitter\n",
        "\n",
        "\n",
        "CHUNK_SIZE = 1500\n",
        "CHUNK_OVERLAP = 32\n",
        "\n",
        "text_splitter = RecursiveCharacterTextSplitter(\n",
        "    chunk_size=CHUNK_SIZE,\n",
        "    chunk_overlap=CHUNK_OVERLAP,\n",
        "    length_function=len,\n",
        "    is_separator_regex=False,\n",
        ")\n",
        "texts = text_splitter.create_documents([md_doc])\n",
        "\n",
        "print(texts[0].page_content)"
      ],
      "metadata": {
        "colab": {
          "base_uri": "https://localhost:8080/"
        },
        "id": "6QJDfwZSt-Lh",
        "outputId": "9e619361-bf18-4e77-f6fd-7a531435a782"
      },
      "execution_count": 33,
      "outputs": [
        {
          "output_type": "stream",
          "name": "stdout",
          "text": [
            "КРЮЧКОВА В. А.\n",
            "\n",
            "## Изобразительная форма в фильмах французской «новой волны». Пластика кадра пластичность сюжета\n",
            "\n",
            "В данной статье рассматривается эстетика режиссеров французского кино Жан-Люка Годара, Жана Риветта, Эрика Ромера, Франсуа Трюффо и др. Автор обращает особое внимание на влияние Синематеки и круга журнала «Кайе дю синема» на формирование художественного вкуса, пристрастия к киноцитатам и культа визуальной достоверности у представителей «новой волны». Воссоздается атмосфера эстетического переворота и техника съемочного процесса, анализируется специфика языка и видения мира. В статье говорится о роли элементов интервью в художественной материи фильма и об установке на открытые финалы, о невозможности традиционно строить сюжет и подводить итоги ввиду незавершенности самого жизненного процесса. Метод режиссеров «новой волны» напоминает коллаж в тех случаях, когда «вырезка» (découpage) из действительности прямо внедряется в кинопоток. Но более часты иные решения: жизнь незаметно, словно обходя режиссера, прокрадывается в его мизансцену. Тогда сливаются в единстве две реальности - стихийная, рожденная вне режиссерской воли, и реальность индивидуального творчества.\n",
            "\n",
            "Keywords: cinema, aesthetics, New wave, Cinematheque, Cahiers du cinéma, directing, location shooting, decoupage, quotation.\n",
            "\n",
            "Krutchkova Valentina A. (1939-2008) Doctor of Arts, Chief Researcher of the Foreign Art Department, Institute of the Art Theory and History of the Russian Academy of Arts, Moscow\n"
          ]
        }
      ]
    },
    {
      "cell_type": "code",
      "source": [
        "# Убриаем чанки - дубликаты\n",
        "\n",
        "seen_texts = []\n",
        "filtered_texts = []\n",
        "for text in texts:\n",
        "    page_content = text.page_content.strip()\n",
        "    if page_content not in seen_texts:\n",
        "        filtered_texts.append(text)\n",
        "    else:\n",
        "        seen_texts.append(page_content)"
      ],
      "metadata": {
        "id": "CH5H7KsyABhO"
      },
      "execution_count": 34,
      "outputs": []
    },
    {
      "cell_type": "markdown",
      "source": [
        "Теперь мы получили набор чанков, с которым можно уже работать"
      ],
      "metadata": {
        "id": "dszIAKyKzM7M"
      }
    },
    {
      "cell_type": "markdown",
      "source": [
        "## Создание векторной базы данных"
      ],
      "metadata": {
        "id": "FYicZD7OzQ8u"
      }
    },
    {
      "cell_type": "code",
      "source": [
        "!pip install -q langchain-gigachat chroma sentence-transformers"
      ],
      "metadata": {
        "id": "u49--8-W3e_Z"
      },
      "execution_count": 5,
      "outputs": []
    },
    {
      "cell_type": "code",
      "source": [
        "from langchain_community.embeddings import HuggingFaceEmbeddings\n",
        "\n",
        "\n",
        "# Загрузка модели Эмбеддинга для преобразования текста в вектор\n",
        "# Ссылка на модель: https://huggingface.co/intfloat/multilingual-e5-large\n",
        "embeddings = HuggingFaceEmbeddings(\n",
        "    model_name=\"intfloat/multilingual-e5-large\"\n",
        ")"
      ],
      "metadata": {
        "id": "VGm1b_CZvWap"
      },
      "execution_count": 38,
      "outputs": []
    },
    {
      "cell_type": "code",
      "source": [
        "emb_result = embeddings.embed_documents(\n",
        "    map(lambda x: x.page_content, filtered_texts) # Получаем поля page_content у каждого документа из filtered_texts\n",
        ")"
      ],
      "metadata": {
        "id": "ooAICM0cBHmg"
      },
      "execution_count": 48,
      "outputs": []
    },
    {
      "cell_type": "code",
      "source": [
        "from langchain.vectorstores.chroma import Chroma\n",
        "\n",
        "vectorstore = Chroma(\n",
        "    \"vecstore\",\n",
        "    embeddings,\n",
        "    \"./chroma_db\"  # папка для сохранения базы\n",
        ")"
      ],
      "metadata": {
        "id": "cjyMdbnQ-x3D"
      },
      "execution_count": 49,
      "outputs": []
    },
    {
      "cell_type": "code",
      "source": [
        "vectorstore.add_texts(list(map(lambda x: x.page_content, filtered_texts)))"
      ],
      "metadata": {
        "colab": {
          "base_uri": "https://localhost:8080/"
        },
        "id": "srtZZXnmCO6b",
        "outputId": "30456261-7ced-4c84-f32c-820d298eede3"
      },
      "execution_count": 55,
      "outputs": [
        {
          "output_type": "execute_result",
          "data": {
            "text/plain": [
              "['b664d0d8-5012-4036-b34e-d6e0638d8d7c',\n",
              " '9c0eef49-e7bd-4163-9c30-4aa406fd7b73',\n",
              " '2ef4fe72-f214-4bc9-85ab-096cda580950',\n",
              " '7284157b-d98c-4af3-bf60-f31802d4cff4',\n",
              " '6236ba85-3df6-48d3-a1f5-68d60d187cc9',\n",
              " '0311a4a0-d6e1-40fd-a05e-917213671991',\n",
              " '086c0fc2-18fb-49c3-94b0-7e620861bd7e',\n",
              " '2e7483e9-6711-4cca-b2de-04324f6e492e',\n",
              " 'd05d42ee-9359-417c-8292-1aaea17185d8',\n",
              " 'e29b7c94-95ca-4afa-abc4-253c0105dccc',\n",
              " '4409c645-519a-4dae-a2c6-b01e7308bc5b',\n",
              " '12a369fa-8b96-47ad-bfa9-1abd5ab320bb',\n",
              " '68b29d05-1c20-4433-87b5-cb2317c436ad',\n",
              " '1b45b792-5878-4bfd-b904-18769647718a',\n",
              " '1169f111-55d3-4e6f-ad44-5c2b5aaeb30e',\n",
              " '9dd6ff43-0c06-461a-8c8a-1b8534a08fbf',\n",
              " '97c574cf-6efd-4d2b-99ac-5fb705364a05',\n",
              " '5a026355-5a48-4bc8-851b-a79e4a5bf541',\n",
              " '9aae0d92-72e9-4654-886d-c3e3d299fa23',\n",
              " 'c3f162c4-45a7-4116-aaa4-e0d3d006d3e2',\n",
              " 'd31138ff-cdfe-441d-a2eb-866d571b5608',\n",
              " 'a88926be-f5b6-4033-943c-0f2662540603',\n",
              " '84c98378-fca3-45e9-ad20-caa3457e276b',\n",
              " '7f649f8a-eca5-42d6-b575-192a410f105d',\n",
              " 'aaf35321-3c62-4ec7-8d8e-01f29764a2f6',\n",
              " 'c5329acd-2988-40ad-9aff-9e4fb76f14d5',\n",
              " '4d6d22f0-501e-49b9-b0b5-99c7e0a27b40',\n",
              " '8cac187b-6e09-480b-b201-3b0ef13bef2b',\n",
              " 'f4a4ea19-3ca5-41ba-92e3-b6e247100ba6',\n",
              " 'cc1327b8-b75e-48bd-946c-0f615c143d04',\n",
              " 'b9cc1c03-0700-4f77-8bd9-8a9efc6cfc8f',\n",
              " 'd96e6f03-6749-41a2-8284-d96d40a395c2',\n",
              " '57ebd541-ae68-4641-9724-8df1d9edc170',\n",
              " '368eaf72-feac-4974-b858-220c21db0ab7',\n",
              " '8fa70027-8fcb-4e37-a2fa-09ab126a5b84',\n",
              " '3039b2ea-cda3-4492-9921-5f44f09bfdda',\n",
              " 'a688d616-1fca-4a40-bcdd-d4a597c472f4',\n",
              " '10630bef-2a7a-4151-918e-3c245c2022e4',\n",
              " '0e4a4e10-e4ed-4352-8c5d-840361a3a012',\n",
              " 'd21801a7-cf9f-4032-9770-40617f1fac83',\n",
              " '55a90395-7b5e-42b8-bfb2-b2ff955b8874',\n",
              " 'e18d53a4-ed5d-466c-8b47-d50413d8578d',\n",
              " '5ae45d97-1c3a-4ce8-94d2-e935c68839a7',\n",
              " '8781f44d-5b4e-46c0-a46c-233e02791e99',\n",
              " '5717ac7c-f8c4-4bb2-a7a0-5ab59238bf89',\n",
              " '2810f4dc-b18c-485b-9256-458aa9f10ac9',\n",
              " 'c8d9a8be-f076-46ab-8fbb-bcd0d04dee8b',\n",
              " 'e35cbde5-6c4d-43e4-a389-b56285265214',\n",
              " 'b3b2b16e-f05b-4372-a602-d7b33bf4254d',\n",
              " '8e363ba2-533f-40b0-a8ff-9195486d7950',\n",
              " '2a59e243-ad85-4610-a738-0a96f6ef8a3b',\n",
              " '041ca159-0747-426e-a2c9-582c205a7f2f',\n",
              " '01b2623b-b9e1-47f2-8acb-1c296ecb45e6',\n",
              " '14aff380-3123-4502-b1fa-ab182ea6dd6f',\n",
              " '23088df8-c6e4-4097-aaf3-8c68578e8b79',\n",
              " 'bfed8c82-9517-4589-8ec3-1304dd3c40d9',\n",
              " 'ef42b4e4-3ca4-4fa4-a39a-dd4c212be713',\n",
              " 'c1067c41-ae53-476a-9968-47657e6283c5',\n",
              " '838f8ead-c02e-45b6-802d-e05290471082',\n",
              " 'bc834b65-0849-40ab-bacd-6e26f508c279',\n",
              " 'b47fa0b0-91b2-48e6-bbf0-aa31d2684ca9',\n",
              " '1c4bb00a-f098-498c-bfc0-3a5763a85940',\n",
              " '750f392c-0c76-4bca-bbf7-3dec2f6f8707',\n",
              " '99c7bf42-f2cc-4ce8-bc4e-c86fefdc4256']"
            ]
          },
          "metadata": {},
          "execution_count": 55
        }
      ]
    },
    {
      "cell_type": "code",
      "source": [
        "retriever = vectorstore.as_retriever(search_kwargs={\"k\": 5})"
      ],
      "metadata": {
        "id": "R9rKC7wNCkWK"
      },
      "execution_count": 57,
      "outputs": []
    },
    {
      "cell_type": "code",
      "source": [
        "query = \"Какая роль элементов интервью?\"\n",
        "retrieved_chunks = retriever.invoke(query)\n",
        "\n",
        "print(\"\\n\\n\\n\".join(map(lambda x: x.page_content, retrieved_chunks[0:3])))"
      ],
      "metadata": {
        "colab": {
          "base_uri": "https://localhost:8080/"
        },
        "id": "ayXlqgum4YO9",
        "outputId": "d9d0ff91-da72-4151-a272-aa73274edff9"
      },
      "execution_count": 73,
      "outputs": [
        {
          "output_type": "stream",
          "name": "stdout",
          "text": [
            "Одна из наиболее замечательных находок - импровизированные интервью, подобные опросу людей в документальных фильмах. Чаще всего режиссер задавал вопросы актеру из-за кадра, как в «Маленьком солдате» Годара, «400 ударах» Трюффо; иной раз появлялся реальный персонаж со стороны, как в «Мужском - женском», где девушка, лицо молодежного журнала, отвечает на журналистские вопросы о своих интересах и предпочтениях. Наконец, беседа Наны, героини «Жить своей жизнью», с интеллектуалом-резонером, случайно встретившимся ей в кафе (это философ Брис Парен). Все это нарушало непрерывность фильмической ткани, создавало впечатление прорыва сквозь\n",
            "\n",
            "нее, выхода в реальность зрителя. Отрывки из других фильмов, часто классических, с совершенно иной стилистикой, выполняли сходную роль, напоминая о том, что изображения на экране - не более чем следы событий, световые миражи, сложившиеся в картину по воле ее создателя. Эти вырезки из потока жизни, их приравнивание к фантазиям прошлым и настоящим, включение в кадр книжных обложек, постеров с репродукциями картин, цитат из романов и поэм - все свидетельствовало о том, что и вымысел, и то, что мы называем реальностью, имеет свою скрытую оборотную сторону: на изнанке открывается плотное сплетение физического мира и его восприятия - нераздельность материи и психики, обусловленная устройством перцептивного аппарата человека.\n",
            "\n",
            "\n",
            "Сюжет - не основа фильма, а составная часть, один из элементов его драматургии. Соотношение между этими элементами - гармоничное или конфликтное - и есть подлинная тема фильма, его теоретическая драматургия, критический анализ его поэтики. Можно даже сказать, что нарратив вытесняется на периферию, дабы войти в состав других сигнификатов, формирующих смысл. Фабула фильма теперь - не сюжет, а сцепление (или столкновение) формальных элементов. «Фильм - интеллектуальное приключение. Я бы хотел заснять мысль в действии, но как это сделать?» [9, с. 187]. Можно сказать, что такая цель была все же достигнута: неожиданность инородных вставок, создающих критические точки, проблематичные\n",
            "\n",
            "соотношения структурных связей складываются в фабулу идей; «интеллектуальное приключение», которое и есть «мысль в действии».\n",
            "\n",
            "\n",
            "Криса Маркера («Взлетная полоса», 1962; «Прекрасный май», 1963) далеко отходят от задач простого информирования зрителя. Фильмы-эссе, с их особой интонацией, точно найденной формой, проблемным содержанием, включаются в пространство кинематографа как новый его вид, вызывающий эмоциональный и интеллектуальный отклик зрителя. Человек часто оставался за кадром, в иных случаях входил в него как безгласная натура. Но были фильмы, в которых режиссер опрашивал людей, оторвав их от повседневных занятий. Сейчас интервью в документальных фильмах стали привычными, но и малоинтересными по причине банальности вопросов и ожидаемого автоматизма бездумных ответов. В «Хронике одного лета» Жана Руша (1960), в «Площади Республики» Луи Маля (1974) выхваченные из толпы люди в коротких интервью предстают как личности - мгновенно промелькнувшие и оставившие по себе загадку.\n"
          ]
        }
      ]
    },
    {
      "cell_type": "markdown",
      "source": [
        "Модель очень маленькая, поэтому надо брать слишком"
      ],
      "metadata": {
        "id": "OndmoAOF_eqc"
      }
    },
    {
      "cell_type": "markdown",
      "source": [
        "# Создание цепочки вызовов агентов для RAG системы"
      ],
      "metadata": {
        "id": "QRUbGMiiorBn"
      }
    },
    {
      "cell_type": "code",
      "source": [
        "from langchain_community.chat_models.gigachat import GigaChat\n",
        "\n",
        "llm = GigaChat(\n",
        "    credentials=GIGACHAT_CRED,\n",
        "    scope=\"GIGACHAT_API_PERS\",\n",
        "    model=\"GigaChat\",\n",
        "    streaming=False,\n",
        "    verify_ssl_certs=False,\n",
        ")"
      ],
      "metadata": {
        "colab": {
          "base_uri": "https://localhost:8080/"
        },
        "id": "0TgeNSWREYTJ",
        "outputId": "8b0fc3fa-5620-4e31-c469-aee6bf87e65c"
      },
      "execution_count": 76,
      "outputs": [
        {
          "output_type": "stream",
          "name": "stderr",
          "text": [
            "/tmp/ipython-input-2923823384.py:3: LangChainDeprecationWarning: The class `GigaChat` was deprecated in LangChain 0.3.5 and will be removed in 1.0. An updated version of the class exists in the :class:`~langchain-gigachat package and should be used instead. To use it run `pip install -U :class:`~langchain-gigachat` and import as `from :class:`~langchain_gigachat import GigaChat``.\n",
            "  llm = GigaChat(\n"
          ]
        }
      ]
    },
    {
      "cell_type": "code",
      "source": [
        "from langchain_core.runnables import RunnableLambda, RunnableParallel\n",
        "from langchain_core.runnables import RunnablePassthrough\n",
        "from langchain.prompts.chat import ChatPromptTemplate\n",
        "from langchain_core.output_parsers.string import StrOutputParser\n",
        "from operator import itemgetter\n",
        "\n",
        "\n",
        "def create_rag_chain(vectorstore, llm):\n",
        "    \"\"\"Создание RAG цепочки с использованием LCEL\"\"\"\n",
        "\n",
        "    # Промпт для перефразирования\n",
        "    # Данный трюк нужен, чтобы retriever (векторная бд) учитывала контекст с чатом\n",
        "    # Например:\n",
        "    # Пользователь спросил \"какая цена акции?\" -> Агент ответитил -> \"А тесла?\"\n",
        "    # (В данном случае, перефразирование будет \"Какая цена акции тесла\" из чего можно найти реливантные чанки)\n",
        "    rewrite_prompt = ChatPromptTemplate.from_template(\"\"\"\n",
        "Перефразируй вопрос для поиска в базе знаний.\n",
        "\n",
        "История: {chat_history}\n",
        "Вопрос: {question}\n",
        "\n",
        "Перефразированный запрос:\n",
        "\"\"\")\n",
        "\n",
        "    # Промпт для ответа\n",
        "    answer_prompt = ChatPromptTemplate.from_template(\"\"\"\n",
        "Ты -- очень начитанный и вежливый ассистент.\n",
        "Твоя задача отвечать понятно пользователю, исходя из данного контекста\n",
        "\n",
        "Контекст: {context}\n",
        "Вопрос: {question}\n",
        "\"\"\")\n",
        "\n",
        "    # Функция для форматирования документов\n",
        "    def format_docs(docs):\n",
        "        return \"\\n\\n\".join(doc.page_content for doc in docs)\n",
        "\n",
        "    # Функция для reranking\n",
        "    def rerank_docs(inputs):\n",
        "        \"\"\"Переоценивает документы из векторной бд\"\"\"\n",
        "        query = inputs[\"rewritten_query\"]\n",
        "        docs_with_scores = vectorstore.similarity_search_with_relevance_scores(\n",
        "            query, k=10\n",
        "        )\n",
        "        sorted_docs = sorted(docs_with_scores, key=lambda x: x[1], reverse=True)\n",
        "        return [doc for doc, score in sorted_docs[:3]]\n",
        "\n",
        "    # Построение цепочки\n",
        "    chain = (\n",
        "        # Шаг 1: Перефразирование\n",
        "        {\n",
        "            \"rewritten_query\": rewrite_prompt | llm | StrOutputParser(),\n",
        "            \"question\": itemgetter(\"question\"),\n",
        "            \"chat_history\": itemgetter(\"chat_history\")\n",
        "        }\n",
        "        # Шаг 2 и 3: RAG + Reranking\n",
        "        | RunnablePassthrough.assign(\n",
        "            best_docs=RunnableLambda(rerank_docs)\n",
        "        )\n",
        "        # Шаг 4: Генерация ответа\n",
        "        | RunnablePassthrough.assign(\n",
        "            context=lambda x: format_docs(x[\"best_docs\"])\n",
        "        )\n",
        "        | {\n",
        "            \"answer\": answer_prompt | llm | StrOutputParser(),\n",
        "            \"rewritten_query\": itemgetter(\"rewritten_query\"),\n",
        "            \"best_docs\": itemgetter(\"best_docs\")\n",
        "        }\n",
        "    )\n",
        "\n",
        "    return chain\n",
        "\n",
        "chain = create_rag_chain(vectorstore, llm)\n",
        "result = chain.invoke({\n",
        "    \"question\": \"О чем говорится в данной статье?\",\n",
        "    \"chat_history\": \"\"\n",
        "})\n",
        "\n",
        "print(result[\"answer\"])"
      ],
      "metadata": {
        "colab": {
          "base_uri": "https://localhost:8080/"
        },
        "id": "D09PHGf25tOa",
        "outputId": "8eff8dc1-d771-411a-ddb3-dbfc8e131780"
      },
      "execution_count": 86,
      "outputs": [
        {
          "output_type": "stream",
          "name": "stdout",
          "text": [
            "Статья описывает кинематографическое произведение, обращая внимание на две важные особенности:\n",
            "\n",
            "### Пластика образов и сюжетов\n",
            "Образы персонажей характеризуются плавностью контуров, будто перетекающих друг в друга, создавая необычные визуальные эффекты. Одновременно меняются смыслы отдельных сцен и целых историй, отражающие трансформационные изменения в фильме. Это подчёркивает гибкость и подвижность самого повествования, его способность переосмысливать себя по мере развития сюжета.\n",
            "\n",
            "### Нарушение традиционного нарратива\n",
            "Традиционный сюжет здесь смещён на второй план — основной акцент сделан на форме и её взаимодействиях, где элементы, такие как звук, изображение, монтаж и другие составляющие, формируют общую идею фильма. Главная идея фильма рассматривается через соотношение гармоничности или конфликта между различными элементами, составляя основу драматургии картины.\n",
            "\n",
            "### Фильм как интеллектуальное приключение\n",
            "Авторы утверждают, что фильм представляет собой именно интеллектуальное путешествие мысли, выраженное в виде оригинальных и неожиданных вставок, которые вызывают размышления и ставят перед зрителем новые вопросы. Именно эти моменты критики называют «критическими точками», ведущими зрителя к новому пониманию смысла фильма.\n",
            "\n",
            "Таким образом, статья рассматривает кинематографическое произведение как сложный интеллектуальный эксперимент, направленный на исследование восприятия и осмысления киноязыка и образной структуры фильмов.\n"
          ]
        }
      ]
    },
    {
      "cell_type": "markdown",
      "source": [
        "## Создание телеграм бота"
      ],
      "metadata": {
        "id": "90pJpKENGQsC"
      }
    },
    {
      "cell_type": "code",
      "source": [
        "!pip install -q telebot"
      ],
      "metadata": {
        "colab": {
          "base_uri": "https://localhost:8080/"
        },
        "id": "SX9x-mBQoxQZ",
        "outputId": "1a99f47b-f41f-4d28-d95b-de15500c9e09"
      },
      "execution_count": 83,
      "outputs": [
        {
          "output_type": "stream",
          "name": "stdout",
          "text": [
            "\u001b[?25l     \u001b[90m━━━━━━━━━━━━━━━━━━━━━━━━━━━━━━━━━━━━━━━━\u001b[0m \u001b[32m0.0/48.3 kB\u001b[0m \u001b[31m?\u001b[0m eta \u001b[36m-:--:--\u001b[0m\r\u001b[2K     \u001b[90m━━━━━━━━━━━━━━━━━━━━━━━━━━━━━━━━━━━━━━━━\u001b[0m \u001b[32m48.3/48.3 kB\u001b[0m \u001b[31m2.8 MB/s\u001b[0m eta \u001b[36m0:00:00\u001b[0m\n",
            "\u001b[?25h\u001b[?25l   \u001b[90m━━━━━━━━━━━━━━━━━━━━━━━━━━━━━━━━━━━━━━━━\u001b[0m \u001b[32m0.0/294.8 kB\u001b[0m \u001b[31m?\u001b[0m eta \u001b[36m-:--:--\u001b[0m\r\u001b[2K   \u001b[90m━━━━━━━━━━━━━━━━━━━━━━━━━━━━━━━━━━━━━━━━\u001b[0m \u001b[32m294.8/294.8 kB\u001b[0m \u001b[31m11.4 MB/s\u001b[0m eta \u001b[36m0:00:00\u001b[0m\n",
            "\u001b[?25h"
          ]
        }
      ]
    },
    {
      "cell_type": "code",
      "source": [
        "CHAT_HISTORY = []\n",
        "\n",
        "def handle_agent_response(q: str):\n",
        "    # Формируем строку с чатом\n",
        "    chat_history = \"\\n\".join(\n",
        "        [\n",
        "            f\"\\nRole: {x.get('role')}\\n Content: {x.get('content')}\"\n",
        "            for x in CHAT_HISTORY\n",
        "        ]\n",
        "    )\n",
        "    # Добавляем в историю чата\n",
        "    CHAT_HISTORY.append({'role': \"human\", \"content\": q})\n",
        "\n",
        "    # Возвращаем ответ из цепочки рассуждений\n",
        "    return chain.invoke({\n",
        "        \"question\": q,\n",
        "        \"chat_history\": chat_history\n",
        "    }).get('answer')\n",
        "\n",
        "handle_agent_response(\"How are you doing?\")"
      ],
      "metadata": {
        "colab": {
          "base_uri": "https://localhost:8080/",
          "height": 36
        },
        "id": "p9T9N4efHafS",
        "outputId": "d00ee182-6c9b-4987-e846-6fa9fbfac753"
      },
      "execution_count": 87,
      "outputs": [
        {
          "output_type": "execute_result",
          "data": {
            "text/plain": [
              "'Привет! У меня всё отлично, готов общаться и помогать тебе с любыми вопросами. Как твои дела?'"
            ],
            "application/vnd.google.colaboratory.intrinsic+json": {
              "type": "string"
            }
          },
          "metadata": {},
          "execution_count": 87
        }
      ]
    },
    {
      "cell_type": "code",
      "source": [
        "import telebot\n",
        "\n",
        "bot = telebot.TeleBot(TG_TOKEN)\n",
        "\n",
        "# Обработчик команды /start\n",
        "@bot.message_handler(commands=['start'])\n",
        "def start(message):\n",
        "    # Отправляем приветственное сообщение\n",
        "    bot.send_message(message.chat.id,\n",
        "                     'Привет, я бот, созданный Катей!')\n",
        "\n",
        "# Обработчик для всех входящих сообщений\n",
        "@bot.message_handler(func=lambda message: True)\n",
        "def handle_message(message):\n",
        "    agent_ans = handle_agent_response(message.text)\n",
        "    CHAT_HISTORY.append({'role': \"assistant\", \"content\": agent_ans})\n",
        "\n",
        "    bot.send_message(message.chat.id, agent_ans)\n",
        "\n",
        "# Запуск бота\n",
        "print(\"Бот готов к работе\")\n",
        "bot.polling(none_stop=True)"
      ],
      "metadata": {
        "colab": {
          "base_uri": "https://localhost:8080/"
        },
        "id": "SYggSTMOGoaG",
        "outputId": "b0f7d4ed-19ce-460b-9e71-6d8cde9f45fe"
      },
      "execution_count": 90,
      "outputs": [
        {
          "output_type": "stream",
          "name": "stdout",
          "text": [
            "Бот готов к работе\n"
          ]
        }
      ]
    },
    {
      "cell_type": "code",
      "source": [],
      "metadata": {
        "id": "34Q5mNO5I_Jp"
      },
      "execution_count": null,
      "outputs": []
    }
  ]
}